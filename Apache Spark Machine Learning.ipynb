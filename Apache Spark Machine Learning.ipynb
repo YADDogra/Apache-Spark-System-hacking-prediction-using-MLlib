{
 "cells": [
  {
   "cell_type": "markdown",
   "metadata": {},
   "source": [
    "# Detecting Linux system hacking activities\n",
    "\n",
    "\n",
    "\n",
    "\n",
    "## 1. Data preparation and exploration "
   ]
  },
  {
   "cell_type": "markdown",
   "metadata": {},
   "source": [
    "**1.1 Creating Spark Session**"
   ]
  },
  {
   "cell_type": "markdown",
   "metadata": {},
   "source": [
    "1.1.1. Create a SparkConf object for using as many local cores as possible, for a proper application name, and for changing the max partition byte configuration to enable a minimum of 2 partitions when reading each file in Spark SQL (so each dataframe  should have at least 4 partitions when reading from the given datafiles)."
   ]
  },
  {
   "cell_type": "code",
   "execution_count": 1,
   "metadata": {},
   "outputs": [],
   "source": [
    "# Code to create a SparkContext object using SparkSession\n",
    "\n",
    "# Import SparkConf class into program\n",
    "from pyspark import SparkConf\n",
    "\n",
    "# local[*]: run Spark in local mode with as many working processors as logical cores on your machine\n",
    "# If we want Spark to run locally with 'k' worker threads, we can specify as \"local[k]\".\n",
    "master = \"local[*]\"\n",
    "# The `appName` field is a name to be shown on the Spark cluster UI page\n",
    "app_name = \"app\"\n",
    "# Setup configuration parameters for Spark\n",
    "spark_conf = SparkConf().setMaster(master).setAppName(app_name).set(\"spark.sql.files.maxPartitionBytes\", 26000000)"
   ]
  },
  {
   "cell_type": "markdown",
   "metadata": {},
   "source": [
    "- `spark.sql.files.maxPartitionBytes` function is used to set the partition bytes to 26 MB to get 5 partitions in total of one dataframe. As one `.csv` file is approximately of 60MB so 26MB of data will be set at each partition and hence we have 2 partitions for each datafile and 5 partition for the whole dataframe."
   ]
  },
  {
   "cell_type": "markdown",
   "metadata": {},
   "source": [
    "1.1.2. Then create a SparkSession using the SparkConf object."
   ]
  },
  {
   "cell_type": "code",
   "execution_count": 2,
   "metadata": {},
   "outputs": [],
   "source": [
    "# Import SparkContext and SparkSession classes\n",
    "from pyspark import SparkContext \n",
    "from pyspark.sql import SparkSession \n",
    "\n",
    "# Using SparkConf object to create a SparkSession\n",
    "spark = SparkSession.builder.config(conf=spark_conf).getOrCreate()\n",
    "sc = spark.sparkContext\n",
    "sc.setLogLevel('ERROR')"
   ]
  },
  {
   "cell_type": "markdown",
   "metadata": {},
   "source": [
    "**1.2 Loading the data**"
   ]
  },
  {
   "cell_type": "markdown",
   "metadata": {},
   "source": [
    "1.2.1. Load each activity data into a Spark dataframe and cache the data. Then print out the row count of each dataframe"
   ]
  },
  {
   "cell_type": "code",
   "execution_count": 3,
   "metadata": {},
   "outputs": [],
   "source": [
    "# to get all the sql type functions like StructType(), IntegerType() etc.\n",
    "from pyspark.sql.types import *\n",
    "\n",
    "# provide the required schema for each dataframe\n",
    "\n",
    "# for process activity dataframe\n",
    "process_schema = StructType([\n",
    "    StructField('ts', IntegerType(), False),\n",
    "    StructField('PID', IntegerType(), False),\n",
    "    StructField('TRUN', IntegerType(), False),\n",
    "    StructField('TSLPI', IntegerType(), False),\n",
    "    StructField('TSLPU', IntegerType(), False),\n",
    "    StructField('POLI', StringType(), False),\n",
    "    StructField('NICE', IntegerType(), False),\n",
    "    StructField('PRI', IntegerType(), False),\n",
    "    StructField('RTPR', IntegerType(), False),\n",
    "    StructField('CPUNR', IntegerType(), False),\n",
    "    StructField('Status', StringType(), False),\n",
    "    StructField('EXC', IntegerType(), False),\n",
    "    StructField('State', StringType(), False),\n",
    "    StructField('CPU', FloatType(), False),\n",
    "    StructField('CMD', StringType(), False),\n",
    "    StructField('attack', IntegerType(), False),\n",
    "    StructField('type', StringType(), False),\n",
    "    ])\n",
    "\n",
    "# for memory activity dataframe\n",
    "memory_schema = StructType([\n",
    "    StructField('ts', IntegerType(), False),\n",
    "    StructField('PID', IntegerType(), False),\n",
    "    StructField('MINFLT', StringType(), False),\n",
    "    StructField('MAJFLT', StringType(), False),\n",
    "    StructField('VSTEXT', StringType(), False),\n",
    "    StructField('VSIZE', FloatType(), False),\n",
    "    StructField('RSIZE', StringType(), False),\n",
    "    StructField('VGROW', StringType(), False),\n",
    "    StructField('RGROW', StringType(), False),\n",
    "    StructField('MEM', FloatType(), False),\n",
    "    StructField('CMD', StringType(), False),\n",
    "    StructField('attack', IntegerType(), False),\n",
    "    StructField('type', StringType(), False),\n",
    "    ])"
   ]
  },
  {
   "cell_type": "code",
   "execution_count": 4,
   "metadata": {},
   "outputs": [
    {
     "data": {
      "text/plain": [
       "DataFrame[ts: int, PID: int, MINFLT: string, MAJFLT: string, VSTEXT: string, VSIZE: float, RSIZE: string, VGROW: string, RGROW: string, MEM: float, CMD: string, attack: int, type: string]"
      ]
     },
     "execution_count": 4,
     "metadata": {},
     "output_type": "execute_result"
    }
   ],
   "source": [
    "# read the data files in tweo dataframes using the provided schema\n",
    "df_process = spark.read.format('csv')\\\n",
    "            .option('header',True).option('escape','\"')\\\n",
    "            .load('linux_process_*.csv', schema=process_schema)\n",
    "\n",
    "df_memory = spark.read.format('csv')\\\n",
    "            .option('header',True).option('escape','\"')\\\n",
    "            .load('linux_memory_*.csv',schema=memory_schema)\n",
    "\n",
    "# to cache the dataframe for extensive use\n",
    "df_process.cache()\n",
    "df_memory.cache()"
   ]
  },
  {
   "cell_type": "code",
   "execution_count": 5,
   "metadata": {},
   "outputs": [
    {
     "data": {
      "text/plain": [
       "2000000"
      ]
     },
     "execution_count": 5,
     "metadata": {},
     "output_type": "execute_result"
    }
   ],
   "source": [
    "# to get the row count\n",
    "df_memory.count()"
   ]
  },
  {
   "cell_type": "code",
   "execution_count": 6,
   "metadata": {},
   "outputs": [
    {
     "data": {
      "text/plain": [
       "1927968"
      ]
     },
     "execution_count": 6,
     "metadata": {},
     "output_type": "execute_result"
    }
   ],
   "source": [
    "# to get the row count\n",
    "df_process.count()"
   ]
  },
  {
   "cell_type": "markdown",
   "metadata": {},
   "source": [
    "1.2.2. For each column in each dataframe above - \n",
    "- Check the null data (if any) and print out the corresponding count in each column.\n",
    "- Are these columns 'MINFLT', 'MAJFLT', 'VSTEXT', 'RSIZE', 'VGROW', 'RGROW' in memory data following the datatype from the metadata file? If not, please transform them into the proper formats"
   ]
  },
  {
   "cell_type": "code",
   "execution_count": 7,
   "metadata": {},
   "outputs": [],
   "source": [
    "# to import all the sql function like isnan(), rand() etc.\n",
    "from pyspark.sql.functions import *"
   ]
  },
  {
   "cell_type": "code",
   "execution_count": 8,
   "metadata": {},
   "outputs": [
    {
     "name": "stdout",
     "output_type": "stream",
     "text": [
      "+---+---+------+------+------+-----+-----+-----+-----+---+---+------+----+\n",
      "| ts|PID|MINFLT|MAJFLT|VSTEXT|VSIZE|RSIZE|VGROW|RGROW|MEM|CMD|attack|type|\n",
      "+---+---+------+------+------+-----+-----+-----+-----+---+---+------+----+\n",
      "|  0|  0|     0|     0|     0|    0|    0|    0|    0|  0|  0|     0|   0|\n",
      "+---+---+------+------+------+-----+-----+-----+-----+---+---+------+----+\n",
      "\n"
     ]
    }
   ],
   "source": [
    "# to get the count of null values in each column of the dataframe\n",
    "df_memory.select([count(when(isnan(c) | col(c).isNull(), c)).alias(c) for c in df_memory.columns]).show()"
   ]
  },
  {
   "cell_type": "code",
   "execution_count": 9,
   "metadata": {},
   "outputs": [
    {
     "name": "stdout",
     "output_type": "stream",
     "text": [
      "+---+---+----+-----+-----+----+----+---+----+-----+------+---+-----+---+---+------+----+\n",
      "| ts|PID|TRUN|TSLPI|TSLPU|POLI|NICE|PRI|RTPR|CPUNR|Status|EXC|State|CPU|CMD|attack|type|\n",
      "+---+---+----+-----+-----+----+----+---+----+-----+------+---+-----+---+---+------+----+\n",
      "|  0|  0|   0|    0|    0|   0|   0|  0|   0|    0|     0|  0|    0|  0|  0|     0|   0|\n",
      "+---+---+----+-----+-----+----+----+---+----+-----+------+---+-----+---+---+------+----+\n",
      "\n"
     ]
    }
   ],
   "source": [
    "# to get the count of null values in each column of the dataframe\n",
    "df_process.select([count(when(isnan(c) | col(c).isNull(), c)).alias(c) for c in df_process.columns]).show()"
   ]
  },
  {
   "cell_type": "code",
   "execution_count": 10,
   "metadata": {},
   "outputs": [],
   "source": [
    "# the following link is referred to use regexp_replace function\n",
    "# https://stackoverflow.com/a/35544166\n",
    "df_memory = df_memory.withColumn('MINFLT', regexp_replace(col('MINFLT'), 'K', '000'))\n",
    "df_memory = df_memory.withColumn('VSTEXT', regexp_replace(col('VSTEXT'), 'K', '000'))\n",
    "df_memory = df_memory.withColumn('RSIZE', regexp_replace(col('RSIZE'), 'K', '000'))\n",
    "df_memory = df_memory.withColumn('VGROW', regexp_replace(col('VGROW'), 'K', '000'))\n",
    "df_memory = df_memory.withColumn('RGROW', regexp_replace(col('RGROW'), 'K', '000'))\n",
    "df_memory = df_memory.withColumn('MAJFLT', regexp_replace(col('MAJFLT'), '224.2M', '224200000'))\n",
    "df_memory = df_memory.withColumn('MAJFLT', regexp_replace(col('MAJFLT'), '224.4M', '224400000'))\n",
    "df_memory = df_memory.withColumn('RSIZE', regexp_replace(col('RSIZE'), '224.2M', '224200000'))\n",
    "df_memory = df_memory.withColumn('RSIZE', regexp_replace(col('RSIZE'), '224.4M', '224400000'))                                 "
   ]
  },
  {
   "cell_type": "code",
   "execution_count": 11,
   "metadata": {},
   "outputs": [],
   "source": [
    "# to correct the VGROW column\n",
    "df_memory = df_memory.withColumn('VGROW', regexp_replace(col('VGROW'), ' ', ''))"
   ]
  },
  {
   "cell_type": "code",
   "execution_count": 12,
   "metadata": {},
   "outputs": [],
   "source": [
    "# casting the columns back to their datatypes\n",
    "df_memory = df_memory.withColumn('MINFLT', df_memory['MINFLT'].cast(FloatType()))\n",
    "df_memory = df_memory.withColumn('MAJFLT', df_memory['MAJFLT'].cast(FloatType()))\n",
    "df_memory = df_memory.withColumn('VSTEXT', df_memory['VSTEXT'].cast(FloatType()))\n",
    "df_memory = df_memory.withColumn('RSIZE', df_memory['RSIZE'].cast(FloatType()))\n",
    "df_memory = df_memory.withColumn('VGROW', df_memory['VGROW'].cast(FloatType()))\n",
    "df_memory = df_memory.withColumn('RGROW', df_memory['RGROW'].cast(FloatType()))"
   ]
  },
  {
   "cell_type": "code",
   "execution_count": 13,
   "metadata": {},
   "outputs": [
    {
     "name": "stdout",
     "output_type": "stream",
     "text": [
      "+---+---+------+------+------+-----+-----+-----+-----+---+---+------+----+\n",
      "| ts|PID|MINFLT|MAJFLT|VSTEXT|VSIZE|RSIZE|VGROW|RGROW|MEM|CMD|attack|type|\n",
      "+---+---+------+------+------+-----+-----+-----+-----+---+---+------+----+\n",
      "|  0|  0|     0|     0|     0|    0|    0|    0|    0|  0|  0|     0|   0|\n",
      "+---+---+------+------+------+-----+-----+-----+-----+---+---+------+----+\n",
      "\n"
     ]
    }
   ],
   "source": [
    "# check the null values with the correct datatypes\n",
    "df_memory.select([count(when(isnan(c) | col(c).isNull(), c)).alias(c) for c in df_memory.columns]).show()"
   ]
  },
  {
   "cell_type": "markdown",
   "metadata": {},
   "source": [
    "**1.3 Exploring the data**"
   ]
  },
  {
   "cell_type": "code",
   "execution_count": 16,
   "metadata": {},
   "outputs": [
    {
     "name": "stdout",
     "output_type": "stream",
     "text": [
      "+------+-------+\n",
      "|attack| Counts|\n",
      "+------+-------+\n",
      "|     0|1794377|\n",
      "|     1| 205623|\n",
      "+------+-------+\n",
      "\n"
     ]
    }
   ],
   "source": [
    "#get the number of attack from df_memory\n",
    "\n",
    "df_memory.select(\"attack\")\\\n",
    "         .groupBy('attack').agg(count('attack').alias('Counts'))\\\n",
    "         .orderBy(\"Counts\", ascending=False)\\\n",
    "         .show()"
   ]
  },
  {
   "cell_type": "markdown",
   "metadata": {},
   "source": [
    "In the memory activity dataframe, we have approximately 9 times more non-attack events compared to the attack events. "
   ]
  },
  {
   "cell_type": "code",
   "execution_count": 17,
   "metadata": {},
   "outputs": [
    {
     "name": "stdout",
     "output_type": "stream",
     "text": [
      "+------+-------+\n",
      "|attack| Counts|\n",
      "+------+-------+\n",
      "|     0|1636604|\n",
      "|     1| 291364|\n",
      "+------+-------+\n",
      "\n"
     ]
    }
   ],
   "source": [
    "#get the number of attack from df_process\n",
    "\n",
    "df_process.select(\"attack\")\\\n",
    "         .groupBy('attack').agg(count('attack').alias('Counts'))\\\n",
    "         .orderBy(\"Counts\", ascending=False)\\\n",
    "         .show()"
   ]
  },
  {
   "cell_type": "markdown",
   "metadata": {},
   "source": [
    "In the process activity dataframe, we have approximately 6 times more non-attack events compared to the attack events.\n",
    "\n",
    "Due to this class imbalance in both the data, our ML prediction algorithm will better learn to predict non-attack events."
   ]
  },
  {
   "cell_type": "code",
   "execution_count": 18,
   "metadata": {},
   "outputs": [
    {
     "name": "stdout",
     "output_type": "stream",
     "text": [
      "+---------+------------------+\n",
      "|     type|Attack_types_count|\n",
      "+---------+------------------+\n",
      "|     ddos|             71603|\n",
      "|      dos|             70721|\n",
      "| password|             51409|\n",
      "|injection|             41311|\n",
      "| scanning|             38449|\n",
      "|      xss|             17759|\n",
      "|     mitm|               112|\n",
      "+---------+------------------+\n",
      "\n"
     ]
    }
   ],
   "source": [
    "#get the attack type counts from df_process\n",
    "\n",
    "df_process.select(\"type\")\\\n",
    "          .where(col('type')!='normal')\\\n",
    "          .groupBy('type').agg(count('type').alias('Attack_types_count'))\\\n",
    "          .orderBy(\"Attack_types_count\", ascending=False)\\\n",
    "          .show()"
   ]
  },
  {
   "cell_type": "code",
   "execution_count": 19,
   "metadata": {},
   "outputs": [
    {
     "data": {
      "text/html": [
       "<div>\n",
       "<style scoped>\n",
       "    .dataframe tbody tr th:only-of-type {\n",
       "        vertical-align: middle;\n",
       "    }\n",
       "\n",
       "    .dataframe tbody tr th {\n",
       "        vertical-align: top;\n",
       "    }\n",
       "\n",
       "    .dataframe thead th {\n",
       "        text-align: right;\n",
       "    }\n",
       "</style>\n",
       "<table border=\"1\" class=\"dataframe\">\n",
       "  <thead>\n",
       "    <tr style=\"text-align: right;\">\n",
       "      <th></th>\n",
       "      <th>summary</th>\n",
       "      <th>ts</th>\n",
       "      <th>PID</th>\n",
       "      <th>MINFLT</th>\n",
       "      <th>MAJFLT</th>\n",
       "      <th>VSTEXT</th>\n",
       "      <th>VSIZE</th>\n",
       "      <th>RSIZE</th>\n",
       "      <th>VGROW</th>\n",
       "      <th>RGROW</th>\n",
       "      <th>MEM</th>\n",
       "    </tr>\n",
       "  </thead>\n",
       "  <tbody>\n",
       "    <tr>\n",
       "      <th>0</th>\n",
       "      <td>count</td>\n",
       "      <td>2000000</td>\n",
       "      <td>2000000</td>\n",
       "      <td>2000000</td>\n",
       "      <td>2000000</td>\n",
       "      <td>2000000</td>\n",
       "      <td>2000000</td>\n",
       "      <td>2000000</td>\n",
       "      <td>2000000</td>\n",
       "      <td>2000000</td>\n",
       "      <td>2000000</td>\n",
       "    </tr>\n",
       "    <tr>\n",
       "      <th>1</th>\n",
       "      <td>mean</td>\n",
       "      <td>1.55624581707609E9</td>\n",
       "      <td>4999.360446</td>\n",
       "      <td>983.344344</td>\n",
       "      <td>987846.587327216</td>\n",
       "      <td>46453.27415207521</td>\n",
       "      <td>4496.419966550712</td>\n",
       "      <td>23722.88866416576</td>\n",
       "      <td>984.4668735599683</td>\n",
       "      <td>483.17466255000073</td>\n",
       "      <td>0.003385164946130477</td>\n",
       "    </tr>\n",
       "    <tr>\n",
       "      <th>2</th>\n",
       "      <td>stddev</td>\n",
       "      <td>984463.368280377</td>\n",
       "      <td>4887.313351921466</td>\n",
       "      <td>19229.610980642174</td>\n",
       "      <td>1.484287423809902E7</td>\n",
       "      <td>658730.205154303</td>\n",
       "      <td>9046.338093354188</td>\n",
       "      <td>1986383.1808734871</td>\n",
       "      <td>86174.82585202341</td>\n",
       "      <td>1491.4761059171694</td>\n",
       "      <td>0.010943425702315173</td>\n",
       "    </tr>\n",
       "    <tr>\n",
       "      <th>3</th>\n",
       "      <td>min</td>\n",
       "      <td>1554216855</td>\n",
       "      <td>1007</td>\n",
       "      <td>0.0</td>\n",
       "      <td>0.0</td>\n",
       "      <td>0.0</td>\n",
       "      <td>0.0</td>\n",
       "      <td>-9728.0</td>\n",
       "      <td>-9392000.0</td>\n",
       "      <td>0.0</td>\n",
       "      <td>0.0</td>\n",
       "    </tr>\n",
       "    <tr>\n",
       "      <th>4</th>\n",
       "      <td>max</td>\n",
       "      <td>1558355716</td>\n",
       "      <td>53096</td>\n",
       "      <td>8050000.0</td>\n",
       "      <td>2.244E8</td>\n",
       "      <td>1.12E7</td>\n",
       "      <td>88040.0</td>\n",
       "      <td>2.244E8</td>\n",
       "      <td>1.116E7</td>\n",
       "      <td>98920.0</td>\n",
       "      <td>0.44</td>\n",
       "    </tr>\n",
       "  </tbody>\n",
       "</table>\n",
       "</div>"
      ],
      "text/plain": [
       "  summary                  ts                PID              MINFLT  \\\n",
       "0   count             2000000            2000000             2000000   \n",
       "1    mean  1.55624581707609E9        4999.360446          983.344344   \n",
       "2  stddev    984463.368280377  4887.313351921466  19229.610980642174   \n",
       "3     min          1554216855               1007                 0.0   \n",
       "4     max          1558355716              53096           8050000.0   \n",
       "\n",
       "                MAJFLT             VSTEXT              VSIZE  \\\n",
       "0              2000000            2000000            2000000   \n",
       "1     987846.587327216  46453.27415207521  4496.419966550712   \n",
       "2  1.484287423809902E7   658730.205154303  9046.338093354188   \n",
       "3                  0.0                0.0                0.0   \n",
       "4              2.244E8             1.12E7            88040.0   \n",
       "\n",
       "                RSIZE              VGROW               RGROW  \\\n",
       "0             2000000            2000000             2000000   \n",
       "1   23722.88866416576  984.4668735599683  483.17466255000073   \n",
       "2  1986383.1808734871  86174.82585202341  1491.4761059171694   \n",
       "3             -9728.0         -9392000.0                 0.0   \n",
       "4             2.244E8            1.116E7             98920.0   \n",
       "\n",
       "                    MEM  \n",
       "0               2000000  \n",
       "1  0.003385164946130477  \n",
       "2  0.010943425702315173  \n",
       "3                   0.0  \n",
       "4                  0.44  "
      ]
     },
     "execution_count": 19,
     "metadata": {},
     "output_type": "execute_result"
    }
   ],
   "source": [
    "# to show the summary statistics\n",
    "\n",
    "# use only the numeric columns\n",
    "numcols=['ts', 'PID', 'MINFLT','MAJFLT', 'VSTEXT' ,'VSIZE', 'RSIZE', 'VGROW' ,'RGROW', 'MEM']\n",
    "\n",
    "# make a new dataframe with numeric columns\n",
    "df_mem_num = df_memory[numcols]\n",
    "\n",
    "# use .describe() to get summary statistics\n",
    "# use .toPandas() to get a better format\n",
    "df_mem_num.describe().toPandas().head()"
   ]
  },
  {
   "cell_type": "code",
   "execution_count": 99,
   "metadata": {},
   "outputs": [
    {
     "name": "stdout",
     "output_type": "stream",
     "text": [
      "+----------+---------+\n",
      "|       CMD|CMD_Count|\n",
      "+----------+---------+\n",
      "|      atop|   325985|\n",
      "|   apache2|    89761|\n",
      "| jfsCommit|    81714|\n",
      "|  vmtoolsd|    77871|\n",
      "|      Xorg|    49981|\n",
      "|  nautilus|    48356|\n",
      "|irqbalance|    44387|\n",
      "|    compiz|    44356|\n",
      "|  ostinato|    43024|\n",
      "|     drone|    41392|\n",
      "+----------+---------+\n",
      "only showing top 10 rows\n",
      "\n"
     ]
    }
   ],
   "source": [
    "# for non-numeric column\n",
    "\n",
    "df_memory.select(\"CMD\")\\\n",
    "         .groupBy('CMD').agg(count('CMD').alias('CMD_Count'))\\\n",
    "         .orderBy(\"CMD_Count\", ascending=False)\\\n",
    "         .show(10)"
   ]
  },
  {
   "cell_type": "markdown",
   "metadata": {},
   "source": [
    "For Process Dataframe - "
   ]
  },
  {
   "cell_type": "code",
   "execution_count": 21,
   "metadata": {},
   "outputs": [
    {
     "data": {
      "text/html": [
       "<div>\n",
       "<style scoped>\n",
       "    .dataframe tbody tr th:only-of-type {\n",
       "        vertical-align: middle;\n",
       "    }\n",
       "\n",
       "    .dataframe tbody tr th {\n",
       "        vertical-align: top;\n",
       "    }\n",
       "\n",
       "    .dataframe thead th {\n",
       "        text-align: right;\n",
       "    }\n",
       "</style>\n",
       "<table border=\"1\" class=\"dataframe\">\n",
       "  <thead>\n",
       "    <tr style=\"text-align: right;\">\n",
       "      <th></th>\n",
       "      <th>summary</th>\n",
       "      <th>ts</th>\n",
       "      <th>PID</th>\n",
       "      <th>TRUN</th>\n",
       "      <th>TSLPI</th>\n",
       "      <th>TSLPU</th>\n",
       "      <th>NICE</th>\n",
       "      <th>PRI</th>\n",
       "      <th>RTPR</th>\n",
       "      <th>CPUNR</th>\n",
       "      <th>EXC</th>\n",
       "      <th>CPU</th>\n",
       "    </tr>\n",
       "  </thead>\n",
       "  <tbody>\n",
       "    <tr>\n",
       "      <th>0</th>\n",
       "      <td>count</td>\n",
       "      <td>1927968</td>\n",
       "      <td>1927968</td>\n",
       "      <td>1927968</td>\n",
       "      <td>1927968</td>\n",
       "      <td>1927968</td>\n",
       "      <td>1927968</td>\n",
       "      <td>1927968</td>\n",
       "      <td>1927968</td>\n",
       "      <td>1927968</td>\n",
       "      <td>1927968</td>\n",
       "      <td>1927968</td>\n",
       "    </tr>\n",
       "    <tr>\n",
       "      <th>1</th>\n",
       "      <td>mean</td>\n",
       "      <td>1.5563198311840394E9</td>\n",
       "      <td>5068.709770597852</td>\n",
       "      <td>0.0632287465352122</td>\n",
       "      <td>3.508334163222626</td>\n",
       "      <td>3.6100184235422994E-4</td>\n",
       "      <td>4.634469555511295</td>\n",
       "      <td>111.26826741937626</td>\n",
       "      <td>0.0</td>\n",
       "      <td>1.9210142491991569</td>\n",
       "      <td>0.030275398761805176</td>\n",
       "      <td>0.02238527309440533</td>\n",
       "    </tr>\n",
       "    <tr>\n",
       "      <th>2</th>\n",
       "      <td>stddev</td>\n",
       "      <td>771350.0248061233</td>\n",
       "      <td>4987.784329320476</td>\n",
       "      <td>0.24782587090416094</td>\n",
       "      <td>6.988459728531786</td>\n",
       "      <td>0.04421874419214584</td>\n",
       "      <td>8.403189864752058</td>\n",
       "      <td>22.62444506210293</td>\n",
       "      <td>0.0</td>\n",
       "      <td>1.5274047225902987</td>\n",
       "      <td>1.4619498567691795</td>\n",
       "      <td>0.13628943806203103</td>\n",
       "    </tr>\n",
       "    <tr>\n",
       "      <th>3</th>\n",
       "      <td>min</td>\n",
       "      <td>1554216855</td>\n",
       "      <td>1007</td>\n",
       "      <td>0</td>\n",
       "      <td>0</td>\n",
       "      <td>0</td>\n",
       "      <td>0</td>\n",
       "      <td>0</td>\n",
       "      <td>0</td>\n",
       "      <td>0</td>\n",
       "      <td>0</td>\n",
       "      <td>0.0</td>\n",
       "    </tr>\n",
       "    <tr>\n",
       "      <th>4</th>\n",
       "      <td>max</td>\n",
       "      <td>1557593017</td>\n",
       "      <td>53080</td>\n",
       "      <td>12</td>\n",
       "      <td>70</td>\n",
       "      <td>21</td>\n",
       "      <td>20</td>\n",
       "      <td>139</td>\n",
       "      <td>0</td>\n",
       "      <td>5</td>\n",
       "      <td>127</td>\n",
       "      <td>4.02</td>\n",
       "    </tr>\n",
       "  </tbody>\n",
       "</table>\n",
       "</div>"
      ],
      "text/plain": [
       "  summary                    ts                PID                 TRUN  \\\n",
       "0   count               1927968            1927968              1927968   \n",
       "1    mean  1.5563198311840394E9  5068.709770597852   0.0632287465352122   \n",
       "2  stddev     771350.0248061233  4987.784329320476  0.24782587090416094   \n",
       "3     min            1554216855               1007                    0   \n",
       "4     max            1557593017              53080                   12   \n",
       "\n",
       "               TSLPI                  TSLPU               NICE  \\\n",
       "0            1927968                1927968            1927968   \n",
       "1  3.508334163222626  3.6100184235422994E-4  4.634469555511295   \n",
       "2  6.988459728531786    0.04421874419214584  8.403189864752058   \n",
       "3                  0                      0                  0   \n",
       "4                 70                     21                 20   \n",
       "\n",
       "                  PRI     RTPR               CPUNR                   EXC  \\\n",
       "0             1927968  1927968             1927968               1927968   \n",
       "1  111.26826741937626      0.0  1.9210142491991569  0.030275398761805176   \n",
       "2   22.62444506210293      0.0  1.5274047225902987    1.4619498567691795   \n",
       "3                   0        0                   0                     0   \n",
       "4                 139        0                   5                   127   \n",
       "\n",
       "                   CPU  \n",
       "0              1927968  \n",
       "1  0.02238527309440533  \n",
       "2  0.13628943806203103  \n",
       "3                  0.0  \n",
       "4                 4.02  "
      ]
     },
     "execution_count": 21,
     "metadata": {},
     "output_type": "execute_result"
    }
   ],
   "source": [
    "# to show the summary statistics\n",
    "\n",
    "# use only the numeric columns\n",
    "ncols=['ts', 'PID','TRUN', 'TSLPI', 'TSLPU', 'NICE', 'PRI', 'RTPR', 'CPUNR', 'EXC', 'CPU']\n",
    "\n",
    "# make a new dataframe with numeric columns\n",
    "df_proc_num = df_process[ncols]\n",
    "\n",
    "# use .describe() to get summary statistics\n",
    "# use .toPandas() to get a better format\n",
    "df_proc_num.describe().toPandas().head()"
   ]
  },
  {
   "cell_type": "code",
   "execution_count": 100,
   "metadata": {},
   "outputs": [
    {
     "name": "stdout",
     "output_type": "stream",
     "text": [
      "+----+----------+\n",
      "|POLI|POLI_Count|\n",
      "+----+----------+\n",
      "|norm|   1861558|\n",
      "|   0|     53216|\n",
      "|   -|     13194|\n",
      "+----+----------+\n",
      "\n"
     ]
    }
   ],
   "source": [
    "# for non-numeric POLI column\n",
    "df_process.select(\"POLI\")\\\n",
    "         .groupBy('POLI').agg(count('POLI').alias('POLI_Count'))\\\n",
    "         .orderBy(\"POLI_Count\", ascending=False)\\\n",
    "         .show()"
   ]
  },
  {
   "cell_type": "code",
   "execution_count": 101,
   "metadata": {},
   "outputs": [
    {
     "name": "stdout",
     "output_type": "stream",
     "text": [
      "+------+------------+\n",
      "|Status|Status_Count|\n",
      "+------+------------+\n",
      "|     -|     1416322|\n",
      "|     0|      438984|\n",
      "|    NE|       48602|\n",
      "|     N|       23313|\n",
      "|    NS|         743|\n",
      "|     C|           3|\n",
      "|    NC|           1|\n",
      "+------+------------+\n",
      "\n"
     ]
    }
   ],
   "source": [
    "# for non-numeric Status column\n",
    "df_process.select(\"Status\")\\\n",
    "         .groupBy('Status').agg(count('Status').alias('Status_Count'))\\\n",
    "         .orderBy(\"Status_Count\", ascending=False)\\\n",
    "         .show()"
   ]
  },
  {
   "cell_type": "code",
   "execution_count": 102,
   "metadata": {},
   "outputs": [
    {
     "name": "stdout",
     "output_type": "stream",
     "text": [
      "+-----+-----------+\n",
      "|State|State_Count|\n",
      "+-----+-----------+\n",
      "|    S|    1676350|\n",
      "|    I|      98986|\n",
      "|    R|      84753|\n",
      "|    E|      66410|\n",
      "|    Z|       1118|\n",
      "|    D|        344|\n",
      "|    T|          7|\n",
      "+-----+-----------+\n",
      "\n"
     ]
    }
   ],
   "source": [
    "# for non-numeric State column\n",
    "df_process.select(\"State\")\\\n",
    "         .groupBy('State').agg(count('State').alias('State_Count'))\\\n",
    "         .orderBy(\"State_Count\", ascending=False)\\\n",
    "         .show()"
   ]
  },
  {
   "cell_type": "code",
   "execution_count": 103,
   "metadata": {},
   "outputs": [
    {
     "name": "stdout",
     "output_type": "stream",
     "text": [
      "+--------------+---------+\n",
      "|           CMD|CMD_Count|\n",
      "+--------------+---------+\n",
      "| <kworker/2:2>|        1|\n",
      "|<oneconf-upda>|        1|\n",
      "|        <snap>|        1|\n",
      "|kworker/5:3-me|        1|\n",
      "|kworker/4:4-ev|        1|\n",
      "|       <iconv>|        1|\n",
      "|          curl|        1|\n",
      "|  <sd_generic>|        1|\n",
      "|kworker/1:3-me|        1|\n",
      "|kworker/4:3-ev|        1|\n",
      "+--------------+---------+\n",
      "only showing top 10 rows\n",
      "\n"
     ]
    }
   ],
   "source": [
    "# for non-numeric CMD column\n",
    "df_process.select(\"CMD\")\\\n",
    "         .groupBy(\"CMD\").agg(count('CMD').alias('CMD_Count'))\\\n",
    "         .orderBy(\"CMD_Count\", ascending=True)\\\n",
    "         .show(10)"
   ]
  },
  {
   "cell_type": "code",
   "execution_count": 32,
   "metadata": {},
   "outputs": [],
   "source": [
    "# !pip install pandas\n",
    "import pandas as pd\n",
    "import matplotlib.pyplot as plt\n",
    "%matplotlib inline"
   ]
  },
  {
   "cell_type": "markdown",
   "metadata": {},
   "source": [
    "For Process Activity - "
   ]
  },
  {
   "cell_type": "code",
   "execution_count": 115,
   "metadata": {},
   "outputs": [],
   "source": [
    "# sampled the dataframe and stored only numeric columns \n",
    "df = df_process.sample(False, 0.1, seed=0)\n",
    "df_p = df['ts', 'PID','TRUN', 'TSLPI', 'TSLPU', 'NICE', 'PRI', 'RTPR', 'CPUNR', 'EXC', 'CPU', 'attack']\n",
    "df_p = df_p.toPandas()"
   ]
  },
  {
   "cell_type": "code",
   "execution_count": 116,
   "metadata": {},
   "outputs": [
    {
     "data": {
      "image/png": "[encoded data removed]",
      "text/plain": [
       "<Figure size 864x864 with 144 Axes>"
      ]
     },
     "metadata": {
      "needs_background": "light"
     },
     "output_type": "display_data"
    }
   ],
   "source": [
    "# used scatter_matrix function to plot the correlation plot\n",
    "axs = pd.plotting.scatter_matrix(df_p, figsize=(12,12));\n",
    "\n",
    "# Rotate axis labels and remove axis ticks\n",
    "n = len(df_p.columns)\n",
    "for i in range(n):\n",
    "    v = axs[i, 0]\n",
    "    v.yaxis.label.set_rotation(0)\n",
    "    v.yaxis.label.set_ha('right')\n",
    "    v.set_yticks(())\n",
    "    h = axs[n-1, i]\n",
    "    h.xaxis.label.set_rotation(90)\n",
    "    h.set_xticks(())"
   ]
  },
  {
   "cell_type": "markdown",
   "metadata": {},
   "source": [
    "From the above plot, we see that - \n",
    "* The distribution of all the columns is skewed and not Symmetric.\n",
    "* There is very less correlation between the individual variables."
   ]
  },
  {
   "cell_type": "code",
   "execution_count": 130,
   "metadata": {},
   "outputs": [
    {
     "data": {
      "image/png": "[encoded data removed]",
      "text/plain": [
       "<Figure size 432x288 with 1 Axes>"
      ]
     },
     "metadata": {
      "needs_background": "light"
     },
     "output_type": "display_data"
    }
   ],
   "source": [
    "# group by the type column to get type count\n",
    "# filter out the 'normal' type to include only attacks\n",
    "attack_proc = df_process.select(\"type\")\\\n",
    "          .where(col('type')!='normal')\\\n",
    "          .groupBy('type').agg(count('type').alias('Attack_types_count'))\\\n",
    "          .orderBy(\"Attack_types_count\", ascending=False)\n",
    "\n",
    "# plot a bar plot of the attack counts\n",
    "x = [i.type for i in attack_proc.select('type').collect()]\n",
    "y = [j.Attack_types_count for j in attack_proc.select('Attack_types_count').collect()]\n",
    "plt.bar(x,y)\n",
    "plt.title('Attack Type Count for Process Activity')\n",
    "plt.xlabel('Attack Types')\n",
    "plt.ylabel('Count')\n",
    "plt.show()"
   ]
  },
  {
   "cell_type": "markdown",
   "metadata": {},
   "source": [
    "The above plot, shows that **ddos** attack types are the maximum on the Process Activity and **mitm** attack types are minimum. In the distributed denial of service attack, the attacker seeks to make a machine or network resource unavailable to its intended users by overwhelming the network with more traffic than the server or network can accommodate. "
   ]
  },
  {
   "cell_type": "markdown",
   "metadata": {},
   "source": [
    "For Memory Activity - "
   ]
  },
  {
   "cell_type": "code",
   "execution_count": 112,
   "metadata": {},
   "outputs": [],
   "source": [
    "# sampled the dataframe and stored only numeric columns \n",
    "df_m = df_memory.sample(False, 0.1, seed=0)\n",
    "df_mem = df_m['ts', 'PID', 'MINFLT','MAJFLT', 'VSTEXT' ,'VSIZE', 'RSIZE', 'VGROW' ,'RGROW', 'MEM', 'attack']\n",
    "df_mem = df_mem.toPandas()"
   ]
  },
  {
   "cell_type": "code",
   "execution_count": 113,
   "metadata": {},
   "outputs": [
    {
     "data": {
      "image/png": "[encoded data removed]",
      "text/plain": [
       "<Figure size 864x864 with 121 Axes>"
      ]
     },
     "metadata": {
      "needs_background": "light"
     },
     "output_type": "display_data"
    }
   ],
   "source": [
    "# used scatter_matrix function to plot the correlation plot\n",
    "axs = pd.plotting.scatter_matrix(df_mem, figsize=(12,12));\n",
    "\n",
    "# Rotate axis labels and remove axis ticks\n",
    "n = len(df_mem.columns)\n",
    "for i in range(n):\n",
    "    v = axs[i, 0]\n",
    "    v.yaxis.label.set_rotation(0)\n",
    "    v.yaxis.label.set_ha('right')\n",
    "    v.set_yticks(())\n",
    "    h = axs[n-1, i]\n",
    "    h.xaxis.label.set_rotation(90)\n",
    "    h.set_xticks(())"
   ]
  },
  {
   "cell_type": "markdown",
   "metadata": {},
   "source": [
    "From the above plot, we see that - \n",
    "* The distribution of all the columns is skewed to the right and not Symmetric.\n",
    "* There is very less correlation between the individual variables."
   ]
  },
  {
   "cell_type": "code",
   "execution_count": 131,
   "metadata": {},
   "outputs": [
    {
     "data": {
      "image/png": "[encoded data removed]",
      "text/plain": [
       "<Figure size 432x288 with 1 Axes>"
      ]
     },
     "metadata": {
      "needs_background": "light"
     },
     "output_type": "display_data"
    }
   ],
   "source": [
    "# group by the type column to get type count\n",
    "# filter out the 'normal' type to include only attacks\n",
    "attack_mem = df_memory.select(\"type\")\\\n",
    "          .where(col('type')!='normal')\\\n",
    "          .groupBy('type').agg(count('type').alias('Attack_types_count'))\\\n",
    "          .orderBy(\"Attack_types_count\", ascending=False)\n",
    "\n",
    "x = [i.type for i in attack_mem.select('type').collect()]\n",
    "y = [j.Attack_types_count for j in attack_mem.select('Attack_types_count').collect()]\n",
    "plt.bar(x,y)\n",
    "plt.title('Attack Type Count for Memory Activity')\n",
    "plt.xlabel('Attack Types')\n",
    "plt.ylabel('Count')\n",
    "plt.show()"
   ]
  },
  {
   "cell_type": "markdown",
   "metadata": {},
   "source": [
    "The above plot, shows that **dos** attack types are the maximum on the Memory Activity and **mitm** attack types are minimum. In the denial of service attack, the attacker seeks to make a machine or network resource unavailable to its intended users by temporarily or indefinitely disrupting services of a host connected to the Internet."
   ]
  },
  {
   "cell_type": "markdown",
   "metadata": {},
   "source": [
    "## 2. Feature extraction and ML training"
   ]
  },
  {
   "cell_type": "markdown",
   "metadata": {},
   "source": [
    "**2.1 Preparing the training data and testing data**"
   ]
  },
  {
   "cell_type": "markdown",
   "metadata": {},
   "source": [
    "2.1.1 Randomly split the dataset into 80% training data and 20% testing data for each use case"
   ]
  },
  {
   "cell_type": "code",
   "execution_count": 14,
   "metadata": {},
   "outputs": [],
   "source": [
    "# to randomly split the dataframe\n",
    "train_mem, test_mem = df_memory.randomSplit([0.8, 0.2], seed = 2020)"
   ]
  },
  {
   "cell_type": "code",
   "execution_count": 15,
   "metadata": {},
   "outputs": [],
   "source": [
    "# to randomly split the dataframe\n",
    "train_proc, test_proc = df_process.randomSplit([0.8, 0.2], seed = 2020)"
   ]
  },
  {
   "cell_type": "markdown",
   "metadata": {},
   "source": [
    "For Memory Dataframe - "
   ]
  },
  {
   "cell_type": "code",
   "execution_count": 16,
   "metadata": {},
   "outputs": [
    {
     "data": {
      "text/plain": [
       "DataFrame[ts: int, PID: int, MINFLT: float, MAJFLT: float, VSTEXT: float, VSIZE: float, RSIZE: float, VGROW: float, RGROW: float, MEM: float, CMD: string, attack: int, type: string]"
      ]
     },
     "execution_count": 16,
     "metadata": {},
     "output_type": "execute_result"
    }
   ],
   "source": [
    "# rebalancing the data according to the given conditions\n",
    "\n",
    "# get the 20% of attack data\n",
    "sampled_mem_attack = train_mem.sampleBy(\"attack\", fractions={0: 0, 1: 0.2}, seed=0)\n",
    "\n",
    "# convert the required non-attack data to fraction\n",
    "# frac = (2 * attackdata)/ (non-attackdata)\n",
    "frac = (2*sampled_mem_attack.count())/(train_mem.filter(col('attack')== 0).count())\n",
    "\n",
    "# use the fraction to sample the required amount of non-attack data\n",
    "sampled_mem_non_attack = train_mem.sampleBy(\"attack\", fractions={0: frac, 1: 0}, seed=0)\n",
    "\n",
    "# combine the attack and non-attack data to make the final training data \n",
    "# use rand() to shuffle the data\n",
    "mem_train_data = sampled_mem_attack.union(sampled_mem_non_attack).orderBy(rand()) \n",
    "\n",
    "# cache the trainig data for later use\n",
    "mem_train_data.cache()"
   ]
  },
  {
   "cell_type": "code",
   "execution_count": 18,
   "metadata": {},
   "outputs": [
    {
     "name": "stdout",
     "output_type": "stream",
     "text": [
      "+----------+-----+------+------+-------+-------+-------+-----+------+----+-------------------+------+------+\n",
      "|        ts|  PID|MINFLT|MAJFLT| VSTEXT|  VSIZE|  RSIZE|VGROW| RGROW| MEM|                CMD|attack|  type|\n",
      "+----------+-----+------+------+-------+-------+-------+-----+------+----+-------------------+------+------+\n",
      "|1556174443| 1457|   0.0|   0.0| 2219.0|  333.8|71104.0|  0.0|   0.0|0.02|               Xorg|     1|   dos|\n",
      "|1558241866| 2365| 132.0| 233.6| 3384.0|    0.0|    0.0|  0.0|1024.0| 0.0|     gsd-disk-utili|     0|normal|\n",
      "|1555676275| 4372|1955.0|   0.0|  148.0|17644.0| 2488.0|  0.0|   0.0| 0.0|               atop|     0|normal|\n",
      "|1554803365|16363|   0.0|   0.0|    0.0|    0.0|    0.0|  0.0|   0.0| 0.0|     kworker/u256:2|     0|normal|\n",
      "|1558216251| 6714| 132.0|   1.3|79064.0|    0.0|    0.0|  0.0|   0.0|0.01|Web-Content Content|     0|normal|\n",
      "+----------+-----+------+------+-------+-------+-------+-----+------+----+-------------------+------+------+\n",
      "only showing top 5 rows\n",
      "\n"
     ]
    }
   ],
   "source": [
    "# show the rebalanced training data\n",
    "mem_train_data.show(5)"
   ]
  },
  {
   "cell_type": "markdown",
   "metadata": {},
   "source": [
    "For Process Dataframe - "
   ]
  },
  {
   "cell_type": "code",
   "execution_count": 17,
   "metadata": {},
   "outputs": [
    {
     "data": {
      "text/plain": [
       "DataFrame[ts: int, PID: int, TRUN: int, TSLPI: int, TSLPU: int, POLI: string, NICE: int, PRI: int, RTPR: int, CPUNR: int, Status: string, EXC: int, State: string, CPU: float, CMD: string, attack: int, type: string]"
      ]
     },
     "execution_count": 17,
     "metadata": {},
     "output_type": "execute_result"
    }
   ],
   "source": [
    "# rebalancing the data according to the given conditions\n",
    "\n",
    "# get the 20% of attack data\n",
    "sampled_proc_attack = train_proc.sampleBy(\"attack\", fractions={0: 0, 1: 0.2}, seed=0)\n",
    "\n",
    "# convert the required non-attack data to fraction\n",
    "# frac = (2 * attackdata)/ (non-attackdata)\n",
    "frac = (2*sampled_proc_attack.count())/(train_proc.filter(col('attack')== 0).count())\n",
    "\n",
    "# use the fraction to sample the required amount of non-attack data\n",
    "sampled_proc_non_attack = train_proc.sampleBy(\"attack\", fractions={0: frac, 1: 0}, seed=0)\n",
    "\n",
    "# combine the attack and non-attack data to make the final training data \n",
    "# use rand() to shuffle the data\n",
    "proc_train_data = sampled_proc_attack.union(sampled_proc_non_attack).orderBy(rand()) \n",
    "\n",
    "# cache the trainig data for later use\n",
    "proc_train_data.cache()"
   ]
  },
  {
   "cell_type": "code",
   "execution_count": 19,
   "metadata": {},
   "outputs": [
    {
     "name": "stdout",
     "output_type": "stream",
     "text": [
      "+----------+-----+----+-----+-----+----+----+---+----+-----+------+---+-----+---+--------------+------+--------+\n",
      "|        ts|  PID|TRUN|TSLPI|TSLPU|POLI|NICE|PRI|RTPR|CPUNR|Status|EXC|State|CPU|           CMD|attack|    type|\n",
      "+----------+-----+----+-----+-----+----+----+---+----+-----+------+---+-----+---+--------------+------+--------+\n",
      "|1556281845| 2547|   0|    3|    0|norm|   0|120|   0|    2|     -|  0|    S|0.0|unity-panel-se|     0|  normal|\n",
      "|1556710945| 4374|   0|    1|    0|norm|  20|100|   0|    0|     -|  0|    S|0.0|          atop|     0|  normal|\n",
      "|1556506937| 1594|   0|    3|    0|norm|   0|120|   0|    0|     -|  0|    S|0.0|   packagekitd|     1|password|\n",
      "|1556222675| 4253|   0|    1|    0|norm|   0|120|   0|    2|     0|  0|    S|0.0|kworker/u256:0|     1|    ddos|\n",
      "|1554416005|17503|   0|    0|    0|norm|   0|120|   0|    3|     -|  0|    I|0.0|kworker/u256:0|     0|  normal|\n",
      "+----------+-----+----+-----+-----+----+----+---+----+-----+------+---+-----+---+--------------+------+--------+\n",
      "only showing top 5 rows\n",
      "\n"
     ]
    }
   ],
   "source": [
    "# show the rebalanced training data\n",
    "proc_train_data.show(5)"
   ]
  },
  {
   "cell_type": "markdown",
   "metadata": {},
   "source": [
    "**2.2 Preparing features, labels and models**"
   ]
  },
  {
   "cell_type": "code",
   "execution_count": 20,
   "metadata": {},
   "outputs": [],
   "source": [
    "from pyspark.ml.feature import StringIndexer, OneHotEncoder, VectorAssembler"
   ]
  },
  {
   "cell_type": "markdown",
   "metadata": {},
   "source": [
    "**For Process Activity**"
   ]
  },
  {
   "cell_type": "code",
   "execution_count": 21,
   "metadata": {},
   "outputs": [],
   "source": [
    "# First, save the string columns in string list and numerical in the numerical columns list\n",
    "stringInputCols = ['POLI' , 'Status', 'State']\n",
    "numericInputCols = ['PID', 'TSLPI','NICE', 'CPU']\n",
    "\n",
    "#stringIndexer\n",
    "outputCols=[f'{x}_index' for x in stringInputCols]\n",
    "indexer = StringIndexer(inputCols=stringInputCols, outputCols=outputCols, handleInvalid='keep')\n",
    "\n",
    "#OHE\n",
    "inputOHE = outputCols \n",
    "outputOHE = [f'{x}_vec' for x in stringInputCols]\n",
    "encoder = OneHotEncoder(inputCols=inputOHE, outputCols=outputOHE)\n",
    "\n",
    "#VectorAssembler\n",
    "assemblerInputs = numericInputCols + outputOHE\n",
    "assembler = VectorAssembler(inputCols = assemblerInputs, outputCol=\"features\")"
   ]
  },
  {
   "cell_type": "markdown",
   "metadata": {},
   "source": [
    "**For Memory Activity**"
   ]
  },
  {
   "cell_type": "code",
   "execution_count": 22,
   "metadata": {},
   "outputs": [],
   "source": [
    "# Save the numerical in the numerical columns list\n",
    "numericInputCols_mem = ['PID', 'MINFLT','MAJFLT','VSTEXT', 'RSIZE','VGROW','RGROW','MEM']\n",
    "\n",
    "#VectorAssembler\n",
    "assemblerInputs_mem  = numericInputCols_mem \n",
    "assembler_mem  = VectorAssembler(inputCols = assemblerInputs_mem, outputCol=\"features\")"
   ]
  },
  {
   "cell_type": "markdown",
   "metadata": {},
   "source": [
    "2.2.3 Prepare Estimators for Decision Tree and Gradient Boosted Tree model for each use case and include them into ML Pipelines for use case 1, 2.\n",
    "* A maximum of two pipelines can be created for each use case"
   ]
  },
  {
   "cell_type": "markdown",
   "metadata": {},
   "source": [
    "**Decision Tree**"
   ]
  },
  {
   "cell_type": "code",
   "execution_count": 23,
   "metadata": {},
   "outputs": [],
   "source": [
    "# import the Decision Tree Estimator\n",
    "from pyspark.ml.classification import DecisionTreeClassifier\n",
    "\n",
    "# create an Decision Tree Estimator object\n",
    "dt = DecisionTreeClassifier(featuresCol = 'features', labelCol = 'attack', maxDepth = 3)"
   ]
  },
  {
   "cell_type": "code",
   "execution_count": 24,
   "metadata": {},
   "outputs": [],
   "source": [
    "# to make an ML pipeline\n",
    "from pyspark.ml import Pipeline\n",
    "\n",
    "# For Process Activity\n",
    "stages_proc = [indexer,encoder,assembler,dt]\n",
    "pipeline_proc = Pipeline(stages = stages_proc)\n",
    "\n",
    "# For Memory Activity\n",
    "stages_mem = [assembler_mem,dt]\n",
    "pipeline_mem = Pipeline(stages = stages_mem)"
   ]
  },
  {
   "cell_type": "markdown",
   "metadata": {},
   "source": [
    "**Gradient Boosted Tree**"
   ]
  },
  {
   "cell_type": "code",
   "execution_count": 25,
   "metadata": {},
   "outputs": [],
   "source": [
    "# import the Gradient Boosted Tree Estimator\n",
    "from pyspark.ml.classification import GBTClassifier\n",
    "\n",
    "# create an Gradient Boosted Tree Estimator object\n",
    "gbt = GBTClassifier(featuresCol = 'features', labelCol = 'attack', maxDepth = 3 , maxIter = 10)"
   ]
  },
  {
   "cell_type": "code",
   "execution_count": 26,
   "metadata": {},
   "outputs": [],
   "source": [
    "# For Process Activity\n",
    "stages_proc_gbt = [indexer,encoder,assembler,gbt]\n",
    "pipeline_proc_gbt = Pipeline(stages = stages_proc_gbt)\n",
    "\n",
    "# For Memory Activity\n",
    "stages_mem_gbt = [assembler_mem,gbt]\n",
    "pipeline_mem_gbt = Pipeline(stages = stages_mem_gbt)"
   ]
  },
  {
   "cell_type": "markdown",
   "metadata": {},
   "source": [
    "**2.3 Training and evaluating models**"
   ]
  },
  {
   "cell_type": "markdown",
   "metadata": {},
   "source": [
    "2.3.1. For each use case, use the corresponding ML Pipeline from previous step to train the models on the rebalanced training data from 2.1.2. \n",
    "* Hint - each model training might take from 1min to 40min, depending on the complexity of the pipeline model, the amount of training data and the VM computing power."
   ]
  },
  {
   "cell_type": "markdown",
   "metadata": {},
   "source": [
    "**Decision Tree**"
   ]
  },
  {
   "cell_type": "code",
   "execution_count": 27,
   "metadata": {},
   "outputs": [],
   "source": [
    "#For Process Activity\n",
    "dtModel_proc = pipeline_proc.fit(proc_train_data)\n",
    "\n",
    "#For Memory Activity\n",
    "dtModel_mem = pipeline_mem.fit(mem_train_data)"
   ]
  },
  {
   "cell_type": "markdown",
   "metadata": {},
   "source": [
    "**Gradient Boosted Tree**"
   ]
  },
  {
   "cell_type": "code",
   "execution_count": 28,
   "metadata": {},
   "outputs": [],
   "source": [
    "#For Process Activity\n",
    "gbtModel_proc = pipeline_proc_gbt.fit(proc_train_data)\n",
    "\n",
    "#For Memory Activity\n",
    "gbtModel_mem = pipeline_mem_gbt.fit(mem_train_data)"
   ]
  },
  {
   "cell_type": "markdown",
   "metadata": {},
   "source": [
    "2.3.2. For each use case, test the models on the testing data from 2.1.1 and display the count of each combination of attack label and prediction label in given formats."
   ]
  },
  {
   "cell_type": "code",
   "execution_count": 29,
   "metadata": {},
   "outputs": [],
   "source": [
    "#Testing the obtained models\n",
    "\n",
    "#Decision Tree\n",
    "dtpredictions_proc = dtModel_proc.transform(test_proc)\n",
    "dtpredictions_mem = dtModel_mem.transform(test_mem)\n",
    "\n",
    "#Gradient Boosted Tree\n",
    "gbtpredictions_proc = gbtModel_proc.transform(test_proc)\n",
    "gbtpredictions_mem = gbtModel_mem.transform(test_mem)"
   ]
  },
  {
   "cell_type": "code",
   "execution_count": 30,
   "metadata": {},
   "outputs": [
    {
     "name": "stdout",
     "output_type": "stream",
     "text": [
      "Decision Tree Models ----\n",
      "For Process Activity:\n",
      "\n",
      "+------+----------+------+\n",
      "|attack|prediction| count|\n",
      "+------+----------+------+\n",
      "|     1|       0.0| 34723|\n",
      "|     0|       0.0|289329|\n",
      "|     1|       1.0| 23838|\n",
      "|     0|       1.0| 38068|\n",
      "+------+----------+------+\n",
      "\n",
      "\n",
      "For Memory Activity:\n",
      "\n",
      "+------+----------+------+\n",
      "|attack|prediction| count|\n",
      "+------+----------+------+\n",
      "|     1|       0.0| 29630|\n",
      "|     0|       0.0|330014|\n",
      "|     1|       1.0| 11535|\n",
      "|     0|       1.0| 28967|\n",
      "+------+----------+------+\n",
      "\n",
      "Gradient Boosted Tree Models ----\n",
      "For Process Activity:\n",
      "\n",
      "+------+----------+------+\n",
      "|attack|prediction| count|\n",
      "+------+----------+------+\n",
      "|     1|       0.0| 33715|\n",
      "|     0|       0.0|288583|\n",
      "|     1|       1.0| 24846|\n",
      "|     0|       1.0| 38814|\n",
      "+------+----------+------+\n",
      "\n",
      "\n",
      "For Memory Activity:\n",
      "\n",
      "+------+----------+------+\n",
      "|attack|prediction| count|\n",
      "+------+----------+------+\n",
      "|     1|       0.0| 28512|\n",
      "|     0|       0.0|331673|\n",
      "|     1|       1.0| 12653|\n",
      "|     0|       1.0| 27308|\n",
      "+------+----------+------+\n",
      "\n"
     ]
    }
   ],
   "source": [
    "# show confusion matrix\n",
    "print('Decision Tree Models ----')\n",
    "print('For Process Activity:\\n')\n",
    "dtpredictions_proc.groupBy('attack', 'prediction').count().show()\n",
    "print('\\nFor Memory Activity:\\n')\n",
    "dtpredictions_mem.groupBy('attack', 'prediction').count().show()\n",
    "print('Gradient Boosted Tree Models ----')\n",
    "print('For Process Activity:\\n')\n",
    "gbtpredictions_proc.groupBy('attack', 'prediction').count().show()\n",
    "print('\\nFor Memory Activity:\\n')\n",
    "gbtpredictions_mem.groupBy('attack', 'prediction').count().show()"
   ]
  },
  {
   "cell_type": "markdown",
   "metadata": {},
   "source": [
    "2.3.3. Compute the AUC, accuracy, recall and precision for the attack label from each model testing result using pyspark MLlib / ML APIs. Discuss which metric is more proper for measuring the model performance on identifying attacks."
   ]
  },
  {
   "cell_type": "code",
   "execution_count": 31,
   "metadata": {},
   "outputs": [],
   "source": [
    "# Use BinaryClassificationEvaluator to evaluate a model\n",
    "from pyspark.ml.evaluation import BinaryClassificationEvaluator\n",
    "\n",
    "# Evaluate model Decision Tree\n",
    "evaluator = BinaryClassificationEvaluator(labelCol='attack',rawPredictionCol=\"rawPrediction\")"
   ]
  },
  {
   "cell_type": "code",
   "execution_count": 32,
   "metadata": {},
   "outputs": [],
   "source": [
    "def compute_metrics(predictions):\n",
    "    \n",
    "    # Calculate the elements of the confusion matrix\n",
    "    TN = predictions.filter('prediction = 0 AND attack = 0').count()\n",
    "    TP = predictions.filter('prediction = 1 AND attack = 1').count()\n",
    "\n",
    "    FN = predictions.filter('prediction = 0 AND attack = 1').count()\n",
    "    FP = predictions.filter('prediction = 1 AND attack = 0').count()\n",
    "\n",
    "\n",
    "    # calculate metrics by the confusion matrix\n",
    "    accuracy = (TP + TN) / (TP + TN + FP + FN)\n",
    "    precision = TP / (TP + FP)\n",
    "    recall = TP / (TP + FN)\n",
    "    auc = evaluator.evaluate(predictions)\n",
    "\n",
    "   \n",
    "    return auc, accuracy, precision, recall    "
   ]
  },
  {
   "cell_type": "code",
   "execution_count": 33,
   "metadata": {},
   "outputs": [
    {
     "name": "stdout",
     "output_type": "stream",
     "text": [
      "Decision Tree Models ----\n",
      "For Process Activity:\n",
      "Area Under ROC : 0.4017474048352154\n",
      "Accuracy : 0.8114017587405884\n",
      "Precision : 0.38506768326171936\n",
      "Recall : 0.4070627209234815\n",
      "\n",
      "For Memory Activity:\n",
      "Area Under ROC : 0.5719365701729139\n",
      "Accuracy : 0.8535609502531576\n",
      "Precision : 0.28480075058021825\n",
      "Recall : 0.28021377383699747\n",
      "\n",
      "Gradient Boosted Tree Models ----\n",
      "\n",
      "For Process Activity:\n",
      "Area Under ROC : 0.778548167265007\n",
      "Accuracy : 0.8120805890796408\n",
      "Precision : 0.3902921771913289\n",
      "Recall : 0.42427554174279813\n",
      "\n",
      "For Memory Activity:\n",
      "Area Under ROC : 0.7813903132351491\n",
      "Accuracy : 0.8605009171652347\n",
      "Precision : 0.31663371787492806\n",
      "Recall : 0.3073727681282643\n"
     ]
    }
   ],
   "source": [
    "# get the required values for models\n",
    "proc_dt = compute_metrics(dtpredictions_proc)\n",
    "mem_dt = compute_metrics(dtpredictions_mem)\n",
    "proc_gbt = compute_metrics(gbtpredictions_proc)\n",
    "mem_gbt = compute_metrics(gbtpredictions_mem)\n",
    "\n",
    "# show metrics\n",
    "print('Decision Tree Models ----')\n",
    "print('For Process Activity:')\n",
    "\n",
    "print('Area Under ROC :', proc_dt[0])\n",
    "print('Accuracy :', proc_dt[1])\n",
    "print('Precision :', proc_dt[2])\n",
    "print('Recall :', proc_dt[3])\n",
    "\n",
    "print('\\nFor Memory Activity:')\n",
    "print('Area Under ROC :', mem_dt[0])\n",
    "print('Accuracy :',  mem_dt[1])\n",
    "print('Precision :',  mem_dt[2])\n",
    "print('Recall :',  mem_dt[3])\n",
    "\n",
    "print('\\nGradient Boosted Tree Models ----')\n",
    "print('\\nFor Process Activity:')\n",
    "print('Area Under ROC :', proc_gbt[0])\n",
    "print('Accuracy :', proc_gbt[1])\n",
    "print('Precision :', proc_gbt[2])\n",
    "print('Recall :', proc_gbt[3])\n",
    "\n",
    "print('\\nFor Memory Activity:')\n",
    "print('Area Under ROC :', mem_gbt[0])\n",
    "print('Accuracy :', mem_gbt[1])\n",
    "print('Precision :', mem_gbt[2])\n",
    "print('Recall :', mem_gbt[3])\n",
    "\n"
   ]
  },
  {
   "cell_type": "markdown",
   "metadata": {},
   "source": [
    "For Decision Tree Models -"
   ]
  },
  {
   "cell_type": "code",
   "execution_count": 121,
   "metadata": {},
   "outputs": [
    {
     "name": "stdout",
     "output_type": "stream",
     "text": [
      "Process Activity:\n",
      " [('PID', 0.40551097806515174), ('Status_vec', 0.08145196513737579), ('TSLPI', 0.0), ('NICE', 0.0), ('CPU', 0.0)]\n"
     ]
    }
   ],
   "source": [
    "# to display top 5 features\n",
    "d = dict(zip(dtModel_proc.stages[-2].getInputCols(), dtModel_proc.stages[-1].featureImportances))\n",
    "print('Process Activity:\\n',sorted(d.items(), key=lambda x: x[1], reverse=True)[:5])"
   ]
  },
  {
   "cell_type": "code",
   "execution_count": 122,
   "metadata": {},
   "outputs": [
    {
     "name": "stdout",
     "output_type": "stream",
     "text": [
      "Memory Activity:\n",
      " [('PID', 0.42462763380574237), ('MINFLT', 0.41133887258576496), ('RGROW', 0.16403349360849268), ('MAJFLT', 0.0), ('VSTEXT', 0.0)]\n"
     ]
    }
   ],
   "source": [
    "# to display top 5 features\n",
    "d = dict(zip(dtModel_mem.stages[-2].getInputCols(), dtModel_mem.stages[-1].featureImportances))\n",
    "print('Memory Activity:\\n',sorted(d.items(), key=lambda x: x[1], reverse=True)[:5])  "
   ]
  },
  {
   "cell_type": "markdown",
   "metadata": {},
   "source": [
    "For Gradient Boosted Tree Models -"
   ]
  },
  {
   "cell_type": "code",
   "execution_count": 123,
   "metadata": {},
   "outputs": [
    {
     "name": "stdout",
     "output_type": "stream",
     "text": [
      "Process Activity:\n",
      " [('PID', 0.4248024599672048), ('TSLPI', 0.26168494921138535), ('CPU', 0.06044854095661789), ('NICE', 0.04639897642383493), ('Status_vec', 0.015165289108291409)]\n"
     ]
    }
   ],
   "source": [
    "# to display top 5 features\n",
    "d = dict(zip(gbtModel_proc.stages[-2].getInputCols(), gbtModel_proc.stages[-1].featureImportances))\n",
    "print('Process Activity:\\n',sorted(d.items(), key=lambda x: x[1], reverse=True)[:5])  "
   ]
  },
  {
   "cell_type": "code",
   "execution_count": 124,
   "metadata": {},
   "outputs": [
    {
     "name": "stdout",
     "output_type": "stream",
     "text": [
      "Memory Activity:\n",
      " [('PID', 0.37299012843343626), ('MINFLT', 0.2528616828461373), ('RSIZE', 0.24403047637190547), ('VSTEXT', 0.0706555956020393), ('MEM', 0.021278208242896862)]\n"
     ]
    }
   ],
   "source": [
    "# to display top 5 features\n",
    "d = dict(zip(gbtModel_mem.stages[-2].getInputCols(), gbtModel_mem.stages[-1].featureImportances))\n",
    "print('Memory Activity:\\n',sorted(d.items(), key=lambda x: x[1], reverse=True)[:5])  "
   ]
  },
  {
   "cell_type": "code",
   "execution_count": 62,
   "metadata": {},
   "outputs": [],
   "source": [
    "# Used the following link to get the ROC curve \n",
    "#https://stackoverflow.com/a/57342431\n",
    "\n",
    "from pyspark.mllib.evaluation import BinaryClassificationMetrics\n",
    "\n",
    "class CurveMetrics(BinaryClassificationMetrics):\n",
    "    \n",
    "    def __init__(self, *args):\n",
    "        super(CurveMetrics, self).__init__(*args)\n",
    "\n",
    "    def _to_list(self, rdd):\n",
    "        points = []\n",
    "        for row in rdd.collect():\n",
    "            points += [(float(row._1()), float(row._2()))]\n",
    "        return points\n",
    "\n",
    "    def get_curve(self, method):\n",
    "        rdd = getattr(self._java_model, method)().toJavaRDD()\n",
    "        return self._to_list(rdd)"
   ]
  },
  {
   "cell_type": "code",
   "execution_count": 125,
   "metadata": {},
   "outputs": [
    {
     "data": {
      "text/plain": [
       "[<matplotlib.lines.Line2D at 0x7f0452bcd730>]"
      ]
     },
     "execution_count": 125,
     "metadata": {},
     "output_type": "execute_result"
    },
    {
     "data": {
      "image/png": "[encoded data removed]",
      "text/plain": [
       "<Figure size 432x288 with 1 Axes>"
      ]
     },
     "metadata": {
      "needs_background": "light"
     },
     "output_type": "display_data"
    }
   ],
   "source": [
    "# Returns as a list (false positive rate, true positive rate)\n",
    "preds = gbtpredictions_proc.select('attack','probability')\\\n",
    "                           .rdd.map(lambda row: (float(row['probability'][1]), float(row['attack'])))\n",
    "points = CurveMetrics(preds).get_curve('roc')\n",
    "\n",
    "plt.figure()\n",
    "x_val = [x[0] for x in points]\n",
    "y_val = [x[1] for x in points]\n",
    "plt.title('ROC Curve')\n",
    "plt.xlabel('FPR')\n",
    "plt.ylabel('TPR')\n",
    "plt.plot(x_val, y_val)"
   ]
  },
  {
   "cell_type": "code",
   "execution_count": 126,
   "metadata": {},
   "outputs": [
    {
     "data": {
      "text/plain": [
       "[<matplotlib.lines.Line2D at 0x7f0467fbe670>]"
      ]
     },
     "execution_count": 126,
     "metadata": {},
     "output_type": "execute_result"
    },
    {
     "data": {
      "image/png": "[encoded data removed]",
      "text/plain": [
       "<Figure size 432x288 with 1 Axes>"
      ]
     },
     "metadata": {
      "needs_background": "light"
     },
     "output_type": "display_data"
    }
   ],
   "source": [
    "# Returns as a list (false positive rate, true positive rate)\n",
    "preds = gbtpredictions_mem.select('attack','probability')\\\n",
    "                          .rdd.map(lambda row: (float(row['probability'][1]), float(row['attack'])))\n",
    "points = CurveMetrics(preds).get_curve('roc')\n",
    "\n",
    "plt.figure()\n",
    "x_val = [x[0] for x in points]\n",
    "y_val = [x[1] for x in points]\n",
    "plt.title('ROC Curve')\n",
    "plt.xlabel('FPR')\n",
    "plt.ylabel('TPR')\n",
    "plt.plot(x_val, y_val)"
   ]
  },
  {
   "cell_type": "markdown",
   "metadata": {},
   "source": [
    "**Gradient Boosted Tree models are selected due to higher AUC values for both the cases.**"
   ]
  },
  {
   "cell_type": "code",
   "execution_count": 41,
   "metadata": {},
   "outputs": [],
   "source": [
    "# For process activity\n",
    "\n",
    "# Again rebalancing the data to get all the attack values\n",
    "proc_attack = df_process.sampleBy(\"attack\", fractions={0: 0, 1: 1}, seed=100)\n",
    "\n",
    "# to get the twice the non-attack values\n",
    "#frac_proc = (2 * attack_value)/(non-attack_value)\n",
    "frac_proc = (2*proc_attack.count())/(df_process.filter(col('attack')== 0).count())\n",
    "\n",
    "proc_non_attack = df_process.sampleBy(\"attack\", fractions={0: frac_proc, 1: 0}, seed=100)\n",
    "\n",
    "#combining the attack and non-attack dataframe\n",
    "proc_rebal_data = proc_attack.union(proc_non_attack).orderBy(rand())"
   ]
  },
  {
   "cell_type": "code",
   "execution_count": 42,
   "metadata": {},
   "outputs": [],
   "source": [
    "# For memory activity\n",
    "\n",
    "# Again rebalancing the data to get all the attack values\n",
    "mem_attack = df_memory.sampleBy(\"attack\", fractions={0: 0, 1: 1}, seed=100)\n",
    "\n",
    "# to get the twice the non-attack values\n",
    "#frac_proc = (2 * attack_value)/(non-attack_value)\n",
    "frac_mem = (2*mem_attack.count())/(df_memory.filter(col('attack')== 0).count())\n",
    "\n",
    "mem_non_attack = df_memory.sampleBy(\"attack\", fractions={0: frac_mem, 1: 0}, seed=100)\n",
    "\n",
    "#combining the attack and non-attack dataframe\n",
    "mem_rebal_data = mem_attack.union(mem_non_attack).orderBy(rand()) "
   ]
  },
  {
   "cell_type": "code",
   "execution_count": 43,
   "metadata": {},
   "outputs": [],
   "source": [
    "# caching both the dataframes for later use\n",
    "mem_rebal_data = mem_rebal_data.cache()\n",
    "proc_rebal_data = proc_rebal_data.cache()"
   ]
  },
  {
   "cell_type": "code",
   "execution_count": 44,
   "metadata": {},
   "outputs": [],
   "source": [
    "# Training the selected GBT pipeline model on the rebalanced data\n",
    "\n",
    "# For Process Activity\n",
    "gbt_proc_model = pipeline_proc_gbt.fit(proc_rebal_data)\n",
    "\n",
    "# For Memory Activity\n",
    "gbt_mem_model = pipeline_mem_gbt.fit(mem_rebal_data)"
   ]
  },
  {
   "cell_type": "code",
   "execution_count": 45,
   "metadata": {},
   "outputs": [],
   "source": [
    "#Save the best model\n",
    "gbt_proc_model.save('AttackPrediction_from_Processmodel')\n",
    "gbt_mem_model.save('AttackPrediction_from_Memorymodel')"
   ]
  }
 ],
 "metadata": {
  "kernelspec": {
   "display_name": "Python 3",
   "language": "python",
   "name": "python3"
  },
  "language_info": {
   "codemirror_mode": {
    "name": "ipython",
    "version": 3
   },
   "file_extension": ".py",
   "mimetype": "text/x-python",
   "name": "python",
   "nbconvert_exporter": "python",
   "pygments_lexer": "ipython3",
   "version": "3.7.3"
  }
 },
 "nbformat": 4,
 "nbformat_minor": 4
}
